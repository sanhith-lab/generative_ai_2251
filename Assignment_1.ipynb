{
  "nbformat": 4,
  "nbformat_minor": 0,
  "metadata": {
    "colab": {
      "provenance": [],
      "authorship_tag": "ABX9TyO0geIEEI+yK81cSo5y17yg",
      "include_colab_link": true
    },
    "kernelspec": {
      "name": "python3",
      "display_name": "Python 3"
    },
    "language_info": {
      "name": "python"
    }
  },
  "cells": [
    {
      "cell_type": "markdown",
      "metadata": {
        "id": "view-in-github",
        "colab_type": "text"
      },
      "source": [
        "<a href=\"https://colab.research.google.com/github/sanhith-lab/generative_ai_2251/blob/main/Assignment_1.ipynb\" target=\"_parent\"><img src=\"https://colab.research.google.com/assets/colab-badge.svg\" alt=\"Open In Colab\"/></a>"
      ]
    },
    {
      "cell_type": "code",
      "execution_count": 1,
      "metadata": {
        "colab": {
          "base_uri": "https://localhost:8080/"
        },
        "id": "Kt7fGYT6bfrv",
        "outputId": "ec1200d2-512e-42c7-be38-59140f770242"
      },
      "outputs": [
        {
          "output_type": "stream",
          "name": "stdout",
          "text": [
            "Manual Computations:\n",
            "MAE: 0.4600000000000016\n",
            "MSE: 0.24600000000000147\n",
            "RMSE: 0.49598387070549127\n",
            "MAPE: 1.2733333333333368%\n",
            "\n",
            "Using sklearn:\n",
            "MAE: 0.4600000000000016\n",
            "MSE: 0.24600000000000147\n",
            "RMSE: 0.49598387070549127\n"
          ]
        }
      ],
      "source": [
        "import numpy as np\n",
        "from sklearn.metrics import mean_absolute_error, mean_squared_error\n",
        "\n",
        "y_actual = np.array([20, 30, 40, 50, 60])\n",
        "y_pred = np.array([20.5, 30.3, 40.2, 50.6, 60.7])\n",
        "\n",
        "n = len(y_actual)\n",
        "\n",
        "mae_manual = np.sum(np.abs(y_actual - y_pred)) / n\n",
        "\n",
        "mse_manual = np.sum((y_actual - y_pred)**2) / n\n",
        "\n",
        "rmse_manual = np.sqrt(mse_manual)\n",
        "\n",
        "mape_manual = np.sum(np.abs((y_actual - y_pred) / y_actual)) * 100 / n\n",
        "\n",
        "mae_sklearn = mean_absolute_error(y_actual, y_pred)\n",
        "mse_sklearn = mean_squared_error(y_actual, y_pred)\n",
        "rmse_sklearn = np.sqrt(mse_sklearn)\n",
        "\n",
        "\n",
        "print(\"Manual Computations:\")\n",
        "print(f\"MAE: {mae_manual}\")\n",
        "print(f\"MSE: {mse_manual}\")\n",
        "print(f\"RMSE: {rmse_manual}\")\n",
        "print(f\"MAPE: {mape_manual}%\")\n",
        "\n",
        "print(\"\\nUsing sklearn:\")\n",
        "print(f\"MAE: {mae_sklearn}\")\n",
        "print(f\"MSE: {mse_sklearn}\")\n",
        "print(f\"RMSE: {rmse_sklearn}\")"
      ]
    }
  ]
}