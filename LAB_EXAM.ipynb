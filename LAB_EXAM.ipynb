{
  "nbformat": 4,
  "nbformat_minor": 0,
  "metadata": {
    "colab": {
      "provenance": [],
      "authorship_tag": "ABX9TyP1vHC5qDygb8+qR0YYhhrz",
      "include_colab_link": true
    },
    "kernelspec": {
      "name": "python3",
      "display_name": "Python 3"
    },
    "language_info": {
      "name": "python"
    }
  },
  "cells": [
    {
      "cell_type": "markdown",
      "metadata": {
        "id": "view-in-github",
        "colab_type": "text"
      },
      "source": [
        "<a href=\"https://colab.research.google.com/github/sanhith-lab/generative_ai_2251/blob/main/LAB_EXAM.ipynb\" target=\"_parent\"><img src=\"https://colab.research.google.com/assets/colab-badge.svg\" alt=\"Open In Colab\"/></a>"
      ]
    },
    {
      "cell_type": "code",
      "execution_count": 1,
      "metadata": {
        "colab": {
          "base_uri": "https://localhost:8080/"
        },
        "id": "iTYrUeasqB_t",
        "outputId": "5a23a1cf-296c-4b89-faa6-831230b7c936"
      },
      "outputs": [
        {
          "output_type": "stream",
          "name": "stdout",
          "text": [
            "Confusion Matrix:\n",
            "[[2 1 2]\n",
            " [2 1 2]\n",
            " [2 1 2]]\n",
            "\n",
            "Accuracy: 0.3333\n"
          ]
        }
      ],
      "source": [
        "import numpy as np\n",
        "from sklearn.metrics import confusion_matrix, accuracy_score\n",
        "\n",
        "y_actual = np.array([0, 0, 0, 0, 0, 1, 1, 1, 1, 1, 2, 2, 2, 2, 2])\n",
        "y_pred = np.array([0, 0, 1, 2, 2, 1, 0, 2, 0, 2, 0, 0, 1, 2, 2])\n",
        "\n",
        "conf_matrix = confusion_matrix(y_actual, y_pred)\n",
        "accuracy = accuracy_score(y_actual, y_pred)\n",
        "\n",
        "print(\"Confusion Matrix:\")\n",
        "print(conf_matrix)\n",
        "print(f\"\\nAccuracy: {accuracy:.4f}\")\n"
      ]
    },
    {
      "cell_type": "code",
      "source": [
        "import numpy as np\n",
        "from sklearn.metrics import confusion_matrix, accuracy_score, precision_score\n",
        "y_actual =np.array([0, 0, 0, 0, 0, 1, 1, 1, 1, 1, 2, 2, 2, 2, 2])\n",
        "y_pred = np.array([0, 0, 1, 2, 2, 1, 0, 2, 0, 2, 0, 0, 1, 2, 2])\n",
        "# The function name was misspelled as 'cofusion_matrix'.\n",
        "# Correcting it to 'confusion_matrix':\n",
        "conf_matrix = confusion_matrix(y_actual,y_pred)\n",
        "accuracy = accuracy_score(y_actual,y_pred)\n",
        "precision = precision_score(y_actual,y_pred,average='macro')\n",
        "print(\"Confusion Matrix:\")\n",
        "print(conf_matrix)\n",
        "print(\"Accuracy\")\n",
        "print(accuracy)\n",
        "print(precision)"
      ],
      "metadata": {
        "colab": {
          "base_uri": "https://localhost:8080/"
        },
        "id": "W1upxObdqGYQ",
        "outputId": "4e562483-efa4-4aa0-c0c2-0539e92c7dcf"
      },
      "execution_count": 9,
      "outputs": [
        {
          "output_type": "stream",
          "name": "stdout",
          "text": [
            "Confusion Matrix:\n",
            "[[2 1 2]\n",
            " [2 1 2]\n",
            " [2 1 2]]\n",
            "Accuracy\n",
            "0.3333333333333333\n",
            "0.3333333333333333\n"
          ]
        }
      ]
    },
    {
      "cell_type": "code",
      "source": [
        "import numpy as np\n",
        "from sklearn.metrics import confusion_matrix, accuracy_score, precision_score\n",
        "\n",
        "y_actual = np.array([0, 0, 0, 0, 0, 1, 1, 1, 1, 1])\n",
        "y_pred = np.array([0, 0, 1, 1, 0, 1, 0, 1, 0, 1])\n",
        "\n",
        "conf_matrix = confusion_matrix(y_actual, y_pred)\n",
        "accuracy = accuracy_score(y_actual, y_pred)\n",
        "precision_macro = precision_score(y_actual, y_pred, average='macro')\n",
        "precision_micro = precision_score(y_actual, y_pred, average='micro')\n",
        "precision_weighted = precision_score(y_actual, y_pred, average='weighted')\n",
        "\n",
        "print(\"Confusion Matrix:\")\n",
        "print(conf_matrix)\n",
        "print(f\"Accuracy: {accuracy:.4f}\")\n",
        "print(f\"Precision (Macro): {precision_macro:.4f}\")\n",
        "print(f\"Precision (Micro): {precision_micro:.4f}\")\n",
        "print(f\"Precision (Weighted): {precision_weighted:.4f}\")\n"
      ],
      "metadata": {
        "colab": {
          "base_uri": "https://localhost:8080/"
        },
        "id": "6_E4Y8Z3qzVi",
        "outputId": "b1e7a7e6-d66d-4216-defe-46a283f06ed3"
      },
      "execution_count": 11,
      "outputs": [
        {
          "output_type": "stream",
          "name": "stdout",
          "text": [
            "Confusion Matrix:\n",
            "[[3 2]\n",
            " [2 3]]\n",
            "Accuracy: 0.6000\n",
            "Precision (Macro): 0.6000\n",
            "Precision (Micro): 0.6000\n",
            "Precision (Weighted): 0.6000\n"
          ]
        }
      ]
    },
    {
      "cell_type": "code",
      "source": [
        "from scipy.optimize import linprog\n",
        "\n",
        "# Linear Programming Problem\n",
        "c = [-4, -5, -6]  # Coefficients for maximization (negative because linprog minimizes by default)\n",
        "A = [[2, 1, 1], [4, 3, 0]]  # Coefficients for inequality constraints\n",
        "b = [14, 20]  # Right-hand side values for inequality constraints\n",
        "bounds = [(0, None), (0, None), (0, None)]  # X, Y, Z >= 0\n",
        "\n",
        "result = linprog(c, A_ub=A, b_ub=b, bounds=bounds, method='highs')\n",
        "\n",
        "print(\"Linear Programming Solution:\")\n",
        "print(f\"Optimal Values: X={result.x[0]:.4f}, Y={result.x[1]:.4f}, Z={result.x[2]:.4f}\")\n",
        "print(f\"Maximum P: {-result.fun:.4f}\")\n"
      ],
      "metadata": {
        "colab": {
          "base_uri": "https://localhost:8080/"
        },
        "id": "U7ukQmcytH0e",
        "outputId": "e395bce3-08b5-44bc-e2de-29b67ade166d"
      },
      "execution_count": 12,
      "outputs": [
        {
          "output_type": "stream",
          "name": "stdout",
          "text": [
            "Linear Programming Solution:\n",
            "Optimal Values: X=0.0000, Y=0.0000, Z=14.0000\n",
            "Maximum P: 84.0000\n"
          ]
        }
      ]
    },
    {
      "cell_type": "code",
      "source": [
        "from scipy.optimize import linprog\n",
        "c =[-40,-30]\n",
        "A=[1,2],[2,3]\n",
        "b=[40,60]\n",
        "bounds = [(0,None),(0,None)]\n",
        "result = linprog(c, A_ub=A, b_ub=b, bounds=bounds, method='highs')\n",
        "print(f\"Optimal Values: a={result.x[0]:.4f},b={result.x[1]:.4f}\")\n",
        "print(f\"Maximum P: {-result.fun:.4f}\")"
      ],
      "metadata": {
        "colab": {
          "base_uri": "https://localhost:8080/"
        },
        "id": "RL02zJnsvJPn",
        "outputId": "e6c5e0f5-f537-48f6-e8fc-ef1fc7b66703"
      },
      "execution_count": 21,
      "outputs": [
        {
          "output_type": "stream",
          "name": "stdout",
          "text": [
            "Optimal Values: a=30.0000,b=0.0000\n",
            "Maximum P: 1200.0000\n"
          ]
        }
      ]
    },
    {
      "cell_type": "code",
      "source": [
        "import numpy as np\n",
        "from sklearn.metrics import mean_squared_error, mean_absolute_error\n",
        "\n",
        "# Actual and Predicted Values\n",
        "y_actual = np.array([20, 30, 40, 50])\n",
        "y_pred = np.array([20.5, 30.3, 40.2, 50.6])\n",
        "mse_manual = np.sum((y_actual - y_pred) ** 2) / len(y_actual)\n",
        "mae_manual = np.sum(np.abs(y_actual - y_pred)) / len(y_actual)\n",
        "rmse_manual = np.sqrt(mse_manual)\n",
        "mse_sklearn = mean_squared_error(y_actual, y_pred)\n",
        "mae_sklearn = mean_absolute_error(y_actual, y_pred)\n",
        "rmse_sklearn = np.sqrt(mse_sklearn)\n",
        "\n",
        "# Print results\n",
        "print(\"Error Metrics Calculation:\")\n",
        "print(f\"Manual MSE: {mse_manual:.4f}\")\n",
        "print(f\"Sklearn MSE: {mse_sklearn:.4f}\")\n",
        "print(f\"Manual MAE: {mae_manual:.4f}\")\n",
        "print(f\"Sklearn MAE: {mae_sklearn:.4f}\")\n",
        "print(f\"Manual RMSE: {rmse_manual:.4f}\")\n",
        "print(f\"Sklearn RMSE: {rmse_sklearn:.4f}\")"
      ],
      "metadata": {
        "colab": {
          "base_uri": "https://localhost:8080/"
        },
        "id": "3-Ip_zxtwcn6",
        "outputId": "6feac2d9-8b2d-4cc4-f327-38c5fab371b5"
      },
      "execution_count": 23,
      "outputs": [
        {
          "output_type": "stream",
          "name": "stdout",
          "text": [
            "Error Metrics Calculation:\n",
            "Manual MSE: 0.1850\n",
            "Sklearn MSE: 0.1850\n",
            "Manual MAE: 0.4000\n",
            "Sklearn MAE: 0.4000\n",
            "Manual RMSE: 0.4301\n",
            "Sklearn RMSE: 0.4301\n"
          ]
        }
      ]
    },
    {
      "cell_type": "code",
      "source": [],
      "metadata": {
        "id": "nb6c_JzayXb8"
      },
      "execution_count": null,
      "outputs": []
    }
  ]
}